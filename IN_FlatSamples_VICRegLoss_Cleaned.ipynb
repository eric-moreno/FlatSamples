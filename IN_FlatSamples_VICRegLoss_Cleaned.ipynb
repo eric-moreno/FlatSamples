{
 "cells": [
  {
   "cell_type": "code",
   "execution_count": 43,
   "id": "aeefce5a",
   "metadata": {},
   "outputs": [],
   "source": [
    "# Imports basics\n",
    "import os\n",
    "import numpy as np\n",
    "import h5py\n",
    "import json\n",
    "import setGPU\n",
    "import sklearn\n",
    "import corner\n",
    "import scipy\n",
    "import time\n",
    "from tqdm import tqdm \n",
    "\n",
    "# Imports neural net tools\n",
    "import itertools\n",
    "import torch\n",
    "import torch.nn as nn\n",
    "from torch.autograd.variable import *\n",
    "import torch.optim as optim\n",
    "import torch.nn.functional as F\n",
    "from fast_soft_sort.pytorch_ops import soft_rank\n",
    "import matplotlib.pyplot as plt\n",
    "from sklearn.metrics import roc_curve, roc_auc_score, accuracy_score,  auc"
   ]
  },
  {
   "cell_type": "code",
   "execution_count": 2,
   "id": "dbf55b46",
   "metadata": {},
   "outputs": [
    {
     "name": "stdout",
     "output_type": "stream",
     "text": [
      "Extracting\n",
      "<KeysViewHDF5 ['deepDoubleQ']>\n",
      "(3074667, 207)\n"
     ]
    }
   ],
   "source": [
    "# Opens files and reads data\n",
    "\n",
    "print(\"Extracting\")\n",
    "outdir = 'data/IN_FlatSamples_Pytorch'\n",
    "fOne = h5py.File(\"data/FullQCD_FullSig_Zqq_noFill_dRlimit08_50particlesordered_genMatched50.h5\", 'r')\n",
    "totalData = fOne[\"deepDoubleQ\"][:]\n",
    "print(totalData.shape)\n"
   ]
  },
  {
   "cell_type": "code",
   "execution_count": 3,
   "id": "378cd508",
   "metadata": {},
   "outputs": [],
   "source": [
    "# Sets controllable values\n",
    "\n",
    "particlesConsidered = 50\n",
    "particlesPostCut = 50\n",
    "entriesPerParticle = 4\n",
    "eventDataLength = 6\n",
    "decayTypeColumn = -1\n",
    "datapoints = 1400000\n",
    "trainingDataLength = int(len(totalData)*0.8)\n",
    "validationDataLength = int(len(totalData)*0.1)"
   ]
  },
  {
   "cell_type": "code",
   "execution_count": 4,
   "id": "685318e8",
   "metadata": {},
   "outputs": [
    {
     "name": "stdout",
     "output_type": "stream",
     "text": [
      "Preparing Data\n",
      "(2459733, 4, 50)\n",
      "(307466, 4, 50)\n",
      "Selecting particlesPostCut\n"
     ]
    }
   ],
   "source": [
    "# Creates Training Data\n",
    "\n",
    "print(\"Preparing Data\")\n",
    "\n",
    "particleDataLength = particlesConsidered * entriesPerParticle\n",
    "\n",
    "np.random.seed(42)\n",
    "np.random.shuffle(totalData)\n",
    "\n",
    "#trainingDataLength = int(datapoints*0.8)\n",
    "#validationDataLength = int(datapoints*0.1)\n",
    "\n",
    "mask = [i>40 for i in totalData[:, eventDataLength-1]]\n",
    "totalData = totalData[mask]\n",
    "\n",
    "labels = totalData[:, decayTypeColumn:]\n",
    "particleData = totalData[:, eventDataLength:particleDataLength + eventDataLength]\n",
    "eventData = totalData[:, :eventDataLength]\n",
    "jetMassData = totalData[:, eventDataLength-1] #last entry in eventData (zero indexing)\n",
    "\n",
    "\n",
    "######### Training Data ###############\n",
    "eventTrainingData = np.array(eventData[0:trainingDataLength])\n",
    "jetMassTrainingData = np.array(jetMassData[0:trainingDataLength])\n",
    "particleTrainingData = np.transpose(\n",
    "    particleData[0:trainingDataLength, ].reshape(trainingDataLength, \n",
    "                                                 entriesPerParticle, \n",
    "                                                 particlesConsidered),\n",
    "                                                 axes=(0, 1, 2))\n",
    "trainingLabels = np.array([[i, 1-i] for i in labels[0:trainingDataLength]]).reshape((-1, 2))\n",
    "print(particleTrainingData.shape)\n",
    "\n",
    "########## Validation Data ##########\n",
    "eventValidationData = np.array(eventData[trainingDataLength:trainingDataLength + validationDataLength])\n",
    "jetMassValidationData = np.array(jetMassData[trainingDataLength:trainingDataLength + validationDataLength])\n",
    "particleValidationData = np.transpose(\n",
    "    particleData[trainingDataLength:trainingDataLength + validationDataLength, ].reshape(validationDataLength,\n",
    "                                                                                         entriesPerParticle,\n",
    "                                                                                         particlesConsidered),\n",
    "                                                                                         axes=(0, 1, 2))\n",
    "validationLabels = np.array([[i, 1-i] for i in labels[trainingDataLength:trainingDataLength + validationDataLength]]).reshape((-1, 2))\n",
    "print(particleValidationData.shape)\n",
    "\n",
    "\n",
    "########### Testing Data ############\n",
    "eventTestData = np.array(eventData[trainingDataLength + validationDataLength:])\n",
    "jetMassTestData = np.array(jetMassData[trainingDataLength + validationDataLength:])\n",
    "particleTestData = np.transpose(particleData[trainingDataLength + validationDataLength:,].reshape(\n",
    "    len(particleData) - trainingDataLength - validationDataLength, entriesPerParticle, particlesConsidered),\n",
    "                                axes=(0, 1, 2))\n",
    "testLabels = np.array([[i, 1-i] for i in labels[trainingDataLength + validationDataLength:]]).reshape((-1, 2))\n",
    "\n",
    "print('Selecting particlesPostCut')\n",
    "particleTrainingData = particleTrainingData[:, :particlesPostCut]\n",
    "particleValidationData = particleValidationData[:, :particlesPostCut]\n",
    "particlesTestData = particleTestData[:, :particlesPostCut]\n",
    "\n",
    "particlesConsidered = particlesPostCut\n"
   ]
  },
  {
   "cell_type": "code",
   "execution_count": 5,
   "id": "c4dbcdcf",
   "metadata": {},
   "outputs": [
    {
     "data": {
      "image/png": "[encoded data removed]",
      "text/plain": [
       "<Figure size 432x288 with 1 Axes>"
      ]
     },
     "metadata": {
      "needs_background": "light"
     },
     "output_type": "display_data"
    }
   ],
   "source": [
    "# Look at the data a bit!\n",
    "# Jet mass for correlation\n",
    "jetMassTrainingDataSig = jetMassTrainingData[trainingLabels[:,0].astype(bool)]\n",
    "jetMassTrainingDataBkg = jetMassTrainingData[trainingLabels[:,1].astype(bool)]\n",
    "    \n",
    "plt.figure()\n",
    "plt.hist(jetMassTrainingDataSig, alpha=0.5)\n",
    "plt.hist(jetMassTrainingDataBkg, alpha=0.5)\n",
    "#plt.hist(jetMassValidationDataSig, density=True, alpha=0.5)\n",
    "#plt.hist(jetMassValidationDataBkg, density=True, alpha=0.5)\n",
    "plt.show()\n"
   ]
  },
  {
   "cell_type": "code",
   "execution_count": null,
   "id": "4103a733",
   "metadata": {},
   "outputs": [],
   "source": [
    "# Defines the interaction matrices\n",
    "class GraphNetnoSV(nn.Module):\n",
    "    def __init__(self, n_constituents, n_targets, params, hidden, De=5, Do=6, softmax=False):\n",
    "        super(GraphNetnoSV, self).__init__()\n",
    "        self.hidden = int(hidden)\n",
    "        self.P = params\n",
    "        self.Nv = 0 \n",
    "        self.N = n_constituents\n",
    "        self.Nr = self.N * (self.N - 1)\n",
    "        self.Nt = self.N * self.Nv\n",
    "        self.Ns = self.Nv * (self.Nv - 1)\n",
    "        self.Dr = 0\n",
    "        self.De = De\n",
    "        self.Dx = 0\n",
    "        self.Do = Do\n",
    "        self.S = 0\n",
    "        self.n_targets = n_targets\n",
    "        self.assign_matrices()\n",
    "        self.softmax = softmax\n",
    "           \n",
    "        self.Ra = torch.ones(self.Dr, self.Nr)\n",
    "        self.fr1 = nn.Linear(2 * self.P + self.Dr, self.hidden).cuda()\n",
    "        self.fr2 = nn.Linear(self.hidden, int(self.hidden/2)).cuda()\n",
    "        self.fr3 = nn.Linear(int(self.hidden/2), self.De).cuda()\n",
    "        self.fr1_pv = nn.Linear(self.S + self.P + self.Dr, self.hidden).cuda()\n",
    "        self.fr2_pv = nn.Linear(self.hidden, int(self.hidden/2)).cuda()\n",
    "        self.fr3_pv = nn.Linear(int(self.hidden/2), self.De).cuda()\n",
    "        \n",
    "        self.fo1 = nn.Linear(self.P + self.Dx + (self.De), self.hidden).cuda()\n",
    "        self.fo2 = nn.Linear(self.hidden, int(self.hidden/2)).cuda()\n",
    "        self.fo3 = nn.Linear(int(self.hidden/2), self.Do).cuda()\n",
    "        \n",
    "        self.fc_fixed = nn.Linear(self.Do, self.n_targets).cuda()\n",
    "            \n",
    "    def assign_matrices(self):\n",
    "        self.Rr = torch.zeros(self.N, self.Nr)\n",
    "        self.Rs = torch.zeros(self.N, self.Nr)\n",
    "        receiver_sender_list = [i for i in itertools.product(range(self.N), range(self.N)) if i[0]!=i[1]]\n",
    "        for i, (r, s) in enumerate(receiver_sender_list):\n",
    "            self.Rr[r, i] = 1\n",
    "            self.Rs[s, i] = 1\n",
    "        self.Rr = (self.Rr).cuda()\n",
    "        self.Rs = (self.Rs).cuda()\n",
    "\n",
    "    def forward(self, x):\n",
    "        ###PF Candidate - PF Candidate###\n",
    "        Orr = self.tmul(x, self.Rr)\n",
    "        Ors = self.tmul(x, self.Rs)\n",
    "        B = torch.cat([Orr, Ors], 1)\n",
    "        ### First MLP ###\n",
    "        B = torch.transpose(B, 1, 2).contiguous()\n",
    "        B = nn.functional.relu(self.fr1(B.view(-1, 2 * self.P + self.Dr)))\n",
    "        B = nn.functional.relu(self.fr2(B))\n",
    "        E = nn.functional.relu(self.fr3(B).view(-1, self.Nr, self.De))\n",
    "        del B\n",
    "        E = torch.transpose(E, 1, 2).contiguous()\n",
    "        Ebar_pp = self.tmul(E, torch.transpose(self.Rr, 0, 1).contiguous())\n",
    "        del E\n",
    "        \n",
    "\n",
    "        ####Final output matrix for particles###\n",
    "        \n",
    "\n",
    "        C = torch.cat([x, Ebar_pp], 1)\n",
    "        del Ebar_pp\n",
    "        C = torch.transpose(C, 1, 2).contiguous()\n",
    "        ### Second MLP ###\n",
    "        C = nn.functional.relu(self.fo1(C.view(-1, self.P + self.Dx + (self.De))))\n",
    "        C = nn.functional.relu(self.fo2(C))\n",
    "        O = nn.functional.relu(self.fo3(C).view(-1, self.N, self.Do))\n",
    "        del C\n",
    "\n",
    "        \n",
    "        #Taking the sum of over each particle/vertex\n",
    "        N = torch.sum(O, dim=1)\n",
    "        del O\n",
    "        \n",
    "        ### Classification MLP ###\n",
    "\n",
    "        N = self.fc_fixed(N)\n",
    "        \n",
    "        if self.softmax:\n",
    "            N = nn.Softmax(dim=1)(N)\n",
    "        \n",
    "        return N\n",
    "            \n",
    "    def tmul(self, x, y):  #Takes (I * J * K)(K * L) -> I * J * L \n",
    "        x_shape = x.size()\n",
    "        y_shape = y.size()\n",
    "        return torch.mm(x.view(-1, x_shape[2]), y).view(-1, x_shape[1], y_shape[1])\n",
    "    \n",
    "class DNN(nn.Module):\n",
    "    def __init__(self, n_DimLatent):\n",
    "        super(DNN, self).__init__()\n",
    "        #self.flat = torch.flatten()\n",
    "        self.f0 = nn.Linear(200, 400).cuda()\n",
    "        self.f0b = nn.Linear(400, 400).cuda()\n",
    "        self.f1 = nn.Linear(400, 100).cuda()\n",
    "        self.f2 = nn.Linear(100, 50).cuda()\n",
    "        self.f3 = nn.Linear(50, 10).cuda()\n",
    "        self.f4 = nn.Linear(10, n_DimLatent).cuda()\n",
    "        self.activation = torch.nn.ReLU()\n",
    "    def forward(self, x): \n",
    "        x = torch.flatten(x,start_dim=1)\n",
    "        x = self.activation(self.f0(x))\n",
    "        x = self.activation(self.f0b(x))\n",
    "        x = self.activation(self.f1(x))\n",
    "        x = self.activation(self.f2(x))\n",
    "        x = self.activation(self.f3(x))\n",
    "        x = self.f4(x)\n",
    "        return(x)\n",
    "\n",
    "class MLP(nn.Module):\n",
    "    def __init__(self, n_inputs, n_targets):\n",
    "        super(MLP, self).__init__()\n",
    "        self.f1 = nn.Linear(n_inputs, n_inputs).cuda()\n",
    "        self.f2 = nn.Linear(n_inputs, int(n_inputs/2)).cuda()\n",
    "        self.f3 = nn.Linear(int(n_inputs/2), n_targets).cuda()\n",
    "        self.activation = torch.nn.Softmax()\n",
    "    def forward(self, x): \n",
    "        x = self.f1(x)\n",
    "        x = self.f2(x)\n",
    "        x = self.f3(x)\n",
    "        return(self.activation(x))\n",
    "\n",
    "class Linear(nn.Module):\n",
    "    def __init__(self, n_inputs, n_targets):\n",
    "        super(Linear, self).__init__()\n",
    "        self.f1 = nn.Linear(n_inputs, n_targets).cuda()\n",
    "        self.activation = torch.nn.Sigmoid()\n",
    "    def forward(self, x): \n",
    "        x = self.f1(x)\n",
    "        return(self.activation(x))"
   ]
  },
  {
   "cell_type": "code",
   "execution_count": 7,
   "id": "f28b20fe",
   "metadata": {},
   "outputs": [],
   "source": [
    "# Define losses \n",
    "class BarlowTwinsLoss(torch.nn.Module):\n",
    "\n",
    "    def __init__(self, lambda_param=5e-3):\n",
    "        super(BarlowTwinsLoss, self).__init__()\n",
    "        self.lambda_param = lambda_param\n",
    "        self.device = torch.device('cuda:0')\n",
    "\n",
    "    def forward(self, z_a: torch.Tensor, z_b: torch.Tensor):\n",
    "        #self.device = (torch.device('cuda')if z_a.is_cuda else torch.device('cpu'))\n",
    "        # normalize repr. along the batch dimension\n",
    "        z_a_norm = (z_a - z_a.mean(0)) / z_a.std(0) # NxD\n",
    "        z_b_norm = (z_b - z_b.mean(0)) / z_b.std(0) # NxD\n",
    "\n",
    "        N = z_a.size(0)\n",
    "        D = z_a.size(1)\n",
    "\n",
    "        # cross-correlation matrix\n",
    "        c = torch.mm(z_a_norm.T, z_b_norm) / N # DxD\n",
    "        # loss\n",
    "        c_diff = (c - torch.eye(D, device=self.device)).pow(2) # DxD\n",
    "        # multiply off-diagonal elems of c_diff by lambda\n",
    "        c_diff[~torch.eye(D, dtype=bool)] *= self.lambda_param\n",
    "        loss = c_diff.sum()\n",
    "        return loss\n",
    "\n",
    "    \n",
    "# return a flattened view of the off-diagonal elements of a square matrix\n",
    "def off_diagonal(x):\n",
    "    n, m = x.shape\n",
    "    assert n == m\n",
    "    return x.flatten()[:-1].view(n - 1, n + 1)[:, 1:].flatten()\n",
    "\n",
    "class VICRegLoss(torch.nn.Module):\n",
    "\n",
    "    def __init__(self, lambda_param=1,mu_param=1,nu_param=20):\n",
    "        super(VICRegLoss, self).__init__()\n",
    "        self.lambda_param = lambda_param\n",
    "        self.mu_param = mu_param\n",
    "        self.nu_param = nu_param\n",
    "        #self.device = torch.device('cpu')\n",
    "\n",
    "    def forward(self, x, y):\n",
    "        self.device = (torch.device('cuda')if x.is_cuda else torch.device('cpu'))\n",
    "        \n",
    "        x_scale = x\n",
    "        y_scale = y\n",
    "        repr_loss = F.mse_loss(x_scale, y_scale)\n",
    "        \n",
    "        #x = torch.cat(FullGatherLayer.apply(x), dim=0)\n",
    "        #y = torch.cat(FullGatherLayer.apply(y), dim=0)\n",
    "        x = x_scale - x_scale.mean(dim=0)\n",
    "        y = y_scale - y_scale.mean(dim=0)\n",
    "        N = x_scale.size(0)\n",
    "        D = x_scale.size(1)\n",
    "        \n",
    "        std_x = torch.sqrt(x_scale.var(dim=0) + 0.0001)\n",
    "        std_y = torch.sqrt(y_scale.var(dim=0) + 0.0001)\n",
    "        std_loss = torch.mean(F.relu(1 - std_x)) / 2 + torch.mean(F.relu(1 - std_y)) / 2\n",
    "\n",
    "        cov_x = (x_scale.T @ x_scale) / (N - 1)\n",
    "        cov_y = (y_scale.T @ y_scale) / (N - 1)\n",
    "        cov_loss = off_diagonal(cov_x).pow_(2).sum().div(D) + off_diagonal(cov_y).pow_(2).sum().div(D)\n",
    "\n",
    "        #loss = (self.lambda_param * repr_loss + self.mu_param * std_loss+ self.nu_param * cov_loss)\n",
    "        #print(repr_loss,cov_loss,std_loss)\n",
    "        return repr_loss,cov_loss,std_loss\n",
    "    \n",
    "class CorrLoss(nn.Module):\n",
    "    def __init__(self, corr=False,sort_tolerance=1.0,sort_reg='l2'):\n",
    "        super(CorrLoss, self).__init__()\n",
    "        self.tolerance = sort_tolerance\n",
    "        self.reg       = sort_reg\n",
    "        self.corr      = corr\n",
    "        \n",
    "    def spearman(self, pred, target):\n",
    "        pred   = soft_rank(pred.cpu().reshape(1,-1),regularization=self.reg,regularization_strength=self.tolerance,)\n",
    "        target = soft_rank(target.cpu().reshape(1,-1),regularization=self.reg,regularization_strength=self.tolerance,)\n",
    "        #pred   = torchsort.soft_rank(pred.reshape(1,-1),regularization_strength=x)\n",
    "        #target = torchsort.soft_rank(target.reshape(1,-1),regularization_strength=x)\n",
    "        pred = pred - pred.mean()\n",
    "        pred = pred / pred.norm()\n",
    "        target = target - target.mean()\n",
    "        target = target / target.norm()\n",
    "        ret = (pred * target).sum()\n",
    "        if self.corr:\n",
    "            return (1-ret)*(1-ret)\n",
    "        else:\n",
    "            return ret*ret \n",
    "    \n",
    "    def forward(self, features, labels):\n",
    "        return self.spearman(features,labels)"
   ]
  },
  {
   "cell_type": "code",
   "execution_count": 56,
   "id": "fbc6cdf3",
   "metadata": {},
   "outputs": [],
   "source": [
    "# Separate Encoder & Classifier training \n",
    "\n",
    "def train_encoder(encoder, batchSize, n_Dim, CorrDim, n_epochs, modelName, outdir,\n",
    "                  particleTrainingData, particleValidationData, trainingLabels, jetMassTrainingData, jetMassValidationData,\n",
    "                  weightrepr = 1, weightcov = 1, weightstd = 1, weightCorr1 = 0, weightCorr2 = 0):\n",
    "    \n",
    "    # Separating signal and bkg arrays\n",
    "    particleTrainingDataSig = particleTrainingData[trainingLabels[:,0].astype(bool)]\n",
    "    particleTrainingDataBkg = particleTrainingData[trainingLabels[:,1].astype(bool)]\n",
    "    particleValidationDataSig = particleValidationData[validationLabels[:,0].astype(bool)]\n",
    "    particleValidationDataBkg = particleValidationData[validationLabels[:,1].astype(bool)]\n",
    "    particleTrainingLabelSig = trainingLabels[trainingLabels[:,0].astype(bool)]\n",
    "    particleTrainingLabelBkg = trainingLabels[trainingLabels[:,1].astype(bool)]\n",
    "\n",
    "    # Jet mass for correlation\n",
    "    jetMassTrainingDataSig = jetMassTrainingData[trainingLabels[:,0].astype(bool)]\n",
    "    jetMassTrainingDataBkg = jetMassTrainingData[trainingLabels[:,1].astype(bool)]\n",
    "    jetMassValidationDataSig = jetMassValidationData[validationLabels[:,0].astype(bool)]\n",
    "    jetMassValidationDataBkg = jetMassValidationData[validationLabels[:,1].astype(bool)]\n",
    "    \n",
    "    \n",
    "    try: \n",
    "        os.mkdir(outdir) \n",
    "    except OSError as error: \n",
    "        print(error)\n",
    "    clr_criterion  = VICRegLoss(lambda_param=1,mu_param=1,nu_param=1)\n",
    "    cor_criterion  = CorrLoss()\n",
    "    acr_criterion  = CorrLoss(corr=True)\n",
    "\n",
    "    optimizer = optim.Adam(encoder.parameters(), lr = 0.0001)\n",
    "    loss_vals_training = np.zeros(n_epochs)\n",
    "    loss_vals_validation = np.zeros(n_epochs)\n",
    "\n",
    "    final_epoch = 0\n",
    "    l_val_best = 99999\n",
    "\n",
    "    for m in range(n_epochs):\n",
    "        print(\"Epoch %s\\n\" % m)\n",
    "        #torch.cuda.empty_cache()\n",
    "        final_epoch = m\n",
    "        lst = []\n",
    "        loss_val = []\n",
    "        loss_training = []\n",
    "        correct = []\n",
    "        tic = time.perf_counter()\n",
    "\n",
    "        particleTrainingDataSig, jetMassTrainingDataSig = sklearn.utils.shuffle(particleTrainingDataSig, jetMassTrainingDataSig)\n",
    "        particleTrainingDataBkg, jetMassTrainingDataBkg = sklearn.utils.shuffle(particleTrainingDataBkg, jetMassTrainingDataBkg)\n",
    "        particleValidationDataSig, jetMassValidationDataSig = sklearn.utils.shuffle(particleValidationDataSig,\n",
    "                                                                                    jetMassValidationDataSig)\n",
    "        particleValidationDataBkg, jetMassValidationDataBkg = sklearn.utils.shuffle(particleValidationDataBkg,\n",
    "                                                                                    jetMassValidationDataBkg)\n",
    "\n",
    "\n",
    "        for i in tqdm(range(int(0.8*datapoints/batchSize))): \n",
    "            optimizer.zero_grad()\n",
    "\n",
    "            # Define validation events\n",
    "            trainingvSig = torch.FloatTensor(particleTrainingDataSig[i*batchSize:(i+1)*batchSize]).cuda()\n",
    "            trainingvBkg = torch.FloatTensor(particleTrainingDataBkg[i*batchSize:(i+1)*batchSize]).cuda()\n",
    "            trainingvMassSig = torch.FloatTensor(jetMassTrainingDataSig[i*batchSize:(i+1)*batchSize]).cuda()\n",
    "            trainingvMassBkg = torch.FloatTensor(jetMassTrainingDataBkg[i*batchSize:(i+1)*batchSize]).cuda()\n",
    "            trainingv1 = torch.cat((trainingvSig[:int(batchSize/2)], \n",
    "                                    trainingvBkg[:int(batchSize/2)]))\n",
    "            trainingv1_mass = torch.cat((trainingvMassSig[:int(batchSize/2)], \n",
    "                                    trainingvMassBkg[:int(batchSize/2)]))\n",
    "            trainingv2 = torch.cat((trainingvSig[int(batchSize/2):], \n",
    "                                    trainingvBkg[int(batchSize/2):]))\n",
    "            trainingv2_mass = torch.cat((trainingvMassSig[int(batchSize/2):], \n",
    "                                    trainingvMassBkg[int(batchSize/2):]))\n",
    "\n",
    "            # Calculate network output\n",
    "            out1 = encoder(trainingv1)\n",
    "            out2 = encoder(trainingv2)\n",
    "\n",
    "            #VICReg Loss\n",
    "            repr_loss, cov_loss, std_loss = clr_criterion(out1, out2)\n",
    "\n",
    "            l = weightrepr*repr_loss + weightcov*cov_loss + weightstd*std_loss\n",
    "\n",
    "            '''\n",
    "            # For Clara: these can be commented out if not in use to make things run faster\n",
    "            # Anti-Correlation (actually correlation)\n",
    "            for dim in range(CorrDim): \n",
    "                l += weightCorr1*(dim+1)*acr_criterion(trainingv1_mass, out1[:,dim])\n",
    "                l += weightCorr1*(dim+1)*acr_criterion(trainingv2_mass, out2[:,dim])\n",
    "\n",
    "            # Correlation for rest of dimensions (anti-correlation)\n",
    "            #for dim in range(1): \n",
    "            for dim in range(out1.shape[1]-CorrDim): \n",
    "                l += weightCorr2*(dim+1)*cor_criterion(out1[:,dim+CorrDim], trainingv1_mass)\n",
    "                l += weightCorr2*(dim+1)*cor_criterion(out2[:,dim+CorrDim], trainingv2_mass)\n",
    "            '''\n",
    "\n",
    "            loss_training.append(l.item())\n",
    "            l.backward()\n",
    "            optimizer.step()\n",
    "            loss_string = \"Loss: %s\" % \"{0:.5f}\".format(l.item())\n",
    "            del trainingvSig, trainingvBkg, trainingv1_mass, trainingv2_mass, trainingv1, trainingv2, out1, out2\n",
    "            torch.cuda.empty_cache()\n",
    "\n",
    "        toc = time.perf_counter()\n",
    "        print(f\"Training done in {toc - tic:0.4f} seconds\")\n",
    "        tic = time.perf_counter()\n",
    "\n",
    "        out_val_total_sig = []\n",
    "        out_val_total_bkg = []\n",
    "        out_val_mass_total_sig = []\n",
    "        out_val_mass_total_bkg = []\n",
    "\n",
    "        for i in range(int(0.1*datapoints/(batchSize))):\n",
    "            torch.cuda.empty_cache()\n",
    "\n",
    "            # Define validation events\n",
    "            trainingvSig_val = torch.FloatTensor(particleValidationDataSig[i*batchSize:(i+1)*batchSize]).cuda()\n",
    "            trainingvBkg_val = torch.FloatTensor(particleValidationDataBkg[i*batchSize:(i+1)*batchSize]).cuda()\n",
    "            trainingvMassSig_val = torch.FloatTensor(jetMassValidationDataSig[i*batchSize:(i+1)*batchSize]).cuda()\n",
    "            trainingvMassBkg_val = torch.FloatTensor(jetMassValidationDataBkg[i*batchSize:(i+1)*batchSize]).cuda()\n",
    "            targetv_val = torch.FloatTensor(validationLabels[i*batchSize:(i+1)*batchSize]).cuda()\n",
    "            trainingv1_val = torch.cat((trainingvSig_val[:int(batchSize/2)], trainingvBkg_val[:int(batchSize/2)]))\n",
    "            trainingv2_val = torch.cat((trainingvSig_val[int(batchSize/2):], trainingvBkg_val[int(batchSize/2):]))\n",
    "            trainingv1_val_mass = torch.cat((trainingvMassSig_val[:int(batchSize/2)], \n",
    "                                    trainingvMassBkg_val[:int(batchSize/2)]))\n",
    "            trainingv2_val_mass = torch.cat((trainingvMassSig_val[int(batchSize/2):], \n",
    "                                    trainingvMassBkg_val[int(batchSize/2):]))\n",
    "\n",
    "\n",
    "            # For use in making plots later in epoch\n",
    "            out_val_total_sig.append(encoder(trainingvSig_val).cpu().detach().numpy())\n",
    "            out_val_mass_total_sig.append(trainingvMassSig_val.cpu().detach().numpy())\n",
    "            out_val_total_bkg.append(encoder(trainingvBkg_val).cpu().detach().numpy())\n",
    "            out_val_mass_total_bkg.append(trainingvMassBkg_val.cpu().detach().numpy())\n",
    "\n",
    "            # VICReg Loss\n",
    "            out1_val = encoder(trainingv1_val)\n",
    "            out2_val = encoder(trainingv2_val)\n",
    "            repr_loss, cov_loss, std_loss = clr_criterion(out1_val, out2_val)\n",
    "\n",
    "            l_val = weightrepr*repr_loss + weightcov*cov_loss + weightstd*std_loss\n",
    "\n",
    "            '''\n",
    "            # For Clara: these can be commented out if not in use to make things run faster\n",
    "            # AntiCorrelation\n",
    "            for dim in range(CorrDim): \n",
    "                l_val += weightCorr1*(dim+1)*acr_criterion(trainingv1_val_mass, out1_val[:,dim])\n",
    "                l_val += weightCorr1*(dim+1)*acr_criterion(trainingv2_val_mass, out2_val[:,dim])\n",
    "\n",
    "            # Correlation for rest of dimensions\n",
    "            #for dim in range(1):\n",
    "            for dim in range(out1_val.shape[1]-CorrDim): \n",
    "                l_val += weightCorr2*(dim+1)*cor_criterion(out1_val[:,dim+CorrDim], trainingv1_val_mass)\n",
    "                l_val += weightCorr2*(dim+1)*cor_criterion(out2_val[:,dim+CorrDim], trainingv2_val_mass)\n",
    "            '''\n",
    "\n",
    "            # Classical validation\n",
    "            loss_val.append(l_val.item())\n",
    "\n",
    "            del trainingvSig_val, trainingvBkg_val, trainingv1_val, trainingv2_val, out1_val, out2_val\n",
    "            torch.cuda.empty_cache()\n",
    "\n",
    "        out_val_total_sig = np.array(out_val_total_sig).reshape(-1, n_Dim)\n",
    "        out_val_total_bkg = np.array(out_val_total_bkg).reshape(-1, n_Dim)\n",
    "        out_val_mass_total_sig = np.array(out_val_mass_total_sig).reshape(-1, 1)\n",
    "        out_val_mass_total_bkg = np.array(out_val_mass_total_bkg).reshape(-1, 1)\n",
    "\n",
    "        try: \n",
    "            label_str = [\"latent var %s\"%str(i) for i in range(n_Dim)]\n",
    "            label_str.append(\"mass\")\n",
    "            fig = corner.corner(np.concatenate((out_val_total_sig, out_val_mass_total_sig.reshape(-1, 1)), axis=1), color='red', labels=label_str)\n",
    "            corner.corner(np.concatenate((out_val_total_bkg, out_val_mass_total_bkg.reshape(-1, 1)), axis=1), fig=fig, color='blue', labels=label_str)\n",
    "            fig.savefig('%s/CornerPlot_%s.jpg'%(outdir,modelName))\n",
    "            fig.ioff()\n",
    "            fig.close()\n",
    "        except: \n",
    "            # Can happen at beginning of trainings\n",
    "            print('corner plot problems - might not plot? but also might plot?')\n",
    "\n",
    "        # Calculate train/val loss over epoch\n",
    "        toc = time.perf_counter()\n",
    "        print(f\"Evaluation done in {toc - tic:0.4f} seconds\")\n",
    "        l_val = np.mean(np.array(loss_val))\n",
    "\n",
    "        print('\\nValidation Loss: ', l_val)\n",
    "\n",
    "        l_training = np.mean(np.array(loss_training))\n",
    "        print('Training Loss: ', l_training)\n",
    "\n",
    "        torch.save(encoder.state_dict(), '%s/encoder_%s_last.pth'%(outdir,modelName))\n",
    "        if l_val < l_val_best:\n",
    "            print(\"new best model\")\n",
    "            l_val_best = l_val\n",
    "            torch.save(encoder.state_dict(), '%s/encoder_%s_best.pth'%(outdir,modelName))\n",
    "\n",
    "        loss_vals_training[m] = l_training\n",
    "        loss_vals_validation[m] = l_val\n",
    "\n",
    "        # Early stopping\n",
    "        if m > 8 and all(loss_vals_validation[max(0, m - 8):m] > min(np.append(loss_vals_validation[0:max(0, m - 8)], 200))):\n",
    "            print('Early Stopping...')\n",
    "            print(loss_vals_training, '\\n', np.diff(loss_vals_training))\n",
    "            break\n",
    "            \n",
    "    print(loss_vals_training, '\\n', np.diff(loss_vals_training))\n",
    "    \n",
    "    print('DONE with ENCODER training')\n",
    "    return encoder\n",
    "\n",
    "def train_classifier(classifier, encoder, batchSize, n_Dim, CorrDim, n_epochs, modelName, outdir, \n",
    "                    particleTrainingData, particleValidationData, trainingLabels, jetMassTrainingData, jetMassValidationData):   \n",
    "    \n",
    "    # Separating signal and bkg arrays\n",
    "    particleTrainingDataSig = particleTrainingData[trainingLabels[:,0].astype(bool)]\n",
    "    particleTrainingDataBkg = particleTrainingData[trainingLabels[:,1].astype(bool)]\n",
    "    particleValidationDataSig = particleValidationData[validationLabels[:,0].astype(bool)]\n",
    "    particleValidationDataBkg = particleValidationData[validationLabels[:,1].astype(bool)]\n",
    "    particleTrainingLabelSig = trainingLabels[trainingLabels[:,0].astype(bool)]\n",
    "    particleTrainingLabelBkg = trainingLabels[trainingLabels[:,1].astype(bool)]\n",
    "\n",
    "    # Jet mass for correlation\n",
    "    jetMassTrainingDataSig = jetMassTrainingData[trainingLabels[:,0].astype(bool)]\n",
    "    jetMassTrainingDataBkg = jetMassTrainingData[trainingLabels[:,1].astype(bool)]\n",
    "    jetMassValidationDataSig = jetMassValidationData[validationLabels[:,0].astype(bool)]\n",
    "    jetMassValidationDataBkg = jetMassValidationData[validationLabels[:,1].astype(bool)]\n",
    "    \n",
    "    \n",
    "    loss = nn.BCELoss(reduction='mean')  \n",
    "    optimizer = optim.Adam(classifier.parameters(), lr = 0.001)\n",
    "\n",
    "    loss_vals_training = np.zeros(n_epochs)\n",
    "    loss_vals_validation = np.zeros(n_epochs)\n",
    "    acc_vals_training = np.zeros(n_epochs)\n",
    "    acc_vals_validation = np.zeros(n_epochs)\n",
    "    \n",
    "    final_epoch = 0\n",
    "    l_val_best = 99999\n",
    "    \n",
    "    for m in range(n_epochs):\n",
    "        print(\"Epoch %s\\n\" % m)\n",
    "        tic = time.perf_counter()\n",
    "        final_epoch = m\n",
    "        lst = []\n",
    "        loss_val = []\n",
    "        loss_training = []\n",
    "        correct = []\n",
    "        tic = time.perf_counter()\n",
    "\n",
    "        for i in tqdm(range(int(0.8*datapoints*2/batchSize))): \n",
    "            optimizer.zero_grad()\n",
    "\n",
    "            ######### train classifier #########\n",
    "            trainingv = torch.FloatTensor(particleTrainingData[i*batchSize:(i+1)*batchSize]).cuda()\n",
    "            targetv = torch.FloatTensor(trainingLabels[i*batchSize:(i+1)*batchSize]).cuda()\n",
    "            outC = classifier(encoder(trainingv)[:, CorrDim:])\n",
    "            l = loss(outC, targetv)\n",
    "\n",
    "            loss_training.append(l.item())\n",
    "            l.backward()\n",
    "            optimizer.step()\n",
    "\n",
    "            loss_string = \"Loss: %s\" % \"{0:.5f}\".format(l.item())\n",
    "            del trainingv, targetv\n",
    "            torch.cuda.empty_cache()\n",
    "\n",
    "        toc = time.perf_counter()\n",
    "        print(f\"Training done in {toc - tic:0.4f} seconds\")\n",
    "        tic = time.perf_counter()\n",
    "\n",
    "        for i in range(int(0.1*datapoints*2/(batchSize))): \n",
    "            torch.cuda.empty_cache()\n",
    "\n",
    "            # Classifier \n",
    "            targetv_val = torch.FloatTensor(validationLabels[i*batchSize:(i+1)*batchSize]).cuda()\n",
    "            trainingv_val = torch.FloatTensor(particleValidationData[i*batchSize:(i+1)*batchSize]).cuda()\n",
    "            out = classifier(encoder(trainingv_val)[:, CorrDim:])\n",
    "\n",
    "            l_val = loss(out, targetv_val)\n",
    "            lst.append(out.cpu().data.numpy())\n",
    "            loss_val.append(l_val.item())\n",
    "            correct.append(targetv_val.cpu())\n",
    "\n",
    "            del trainingv_val, targetv_val\n",
    "            torch.cuda.empty_cache()\n",
    "\n",
    "\n",
    "        toc = time.perf_counter()\n",
    "        print(f\"Evaluation done in {toc - tic:0.4f} seconds\")\n",
    "        l_val = np.mean(np.array(loss_val))\n",
    "\n",
    "        print('\\nValidation Loss: ', l_val)\n",
    "\n",
    "        l_training = np.mean(np.array(loss_training))\n",
    "        print('Training Loss: ', l_training)\n",
    "        \n",
    "        predicted = np.concatenate(lst)\n",
    "        val_targetv = np.concatenate(correct)\n",
    "        acc_vals_validation[m] = accuracy_score(val_targetv[:,0],predicted[:,0]>0.5)\n",
    "        print(\"Validation Accuracy: \", acc_vals_validation[m])\n",
    "        \n",
    "        torch.save(classifier.state_dict(), '%s/classifier_%s_last.pth'%(outdir,modelName))\n",
    "        if l_val < l_val_best:\n",
    "            print(\"new best model\")\n",
    "            l_val_best = l_val\n",
    "            torch.save(classifier.state_dict(), '%s/classifier_%s_best.pth'%(outdir,modelName))\n",
    "        loss_vals_training[m] = l_training\n",
    "        loss_vals_validation[m] = l_val\n",
    "        if m > 8 and all(loss_vals_validation[max(0, m - 8):m] > min(np.append(loss_vals_validation[0:max(0, m - 8)], 200))):\n",
    "            print('Early Stopping...')\n",
    "            print(loss_vals_training, '\\n', np.diff(loss_vals_training))\n",
    "            break\n",
    "\n",
    "    print(loss_vals_training, '\\n', np.diff(loss_vals_training))\n",
    "    print('DONE with CLASSIFIER training')\n",
    "    \n",
    "    return classifier\n",
    "\n",
    "def eval_classifier(classifier, encoder, loss_params_text):  \n",
    "    testv = torch.FloatTensor(particleTestData).cuda()\n",
    "    predictions = classifier(encoder(testv)[:, CorrDim:]).cpu().detach().numpy()\n",
    "    testData = totalData[trainingDataLength + validationDataLength:, ]\n",
    "\n",
    "    fpr, tpr, threshold = roc_curve(np.array(testLabels)[:,1].reshape(-1), np.array(predictions)[:,1].reshape(-1))\n",
    "    plt.plot(fpr, tpr, lw=2.5, label=\"{}, AUC = {:.1f} %\".format('ZprimeAtoqq IN',auc(fpr,tpr)*100))\n",
    "    plt.title('ROC Curve')\n",
    "    plt.xlabel('FPR')\n",
    "    plt.ylabel('TPR')\n",
    "    plt.legend()\n",
    "    plt.savefig('%s/%s_model_ROC.jpg'%(outdir,modelName))\n",
    " \n",
    "    sculpt_vars = ['jet_eta', \"jet_phi\",\"jet_EhadOverEem\",\"jet_mass\", 'jet_pT', 'jet_sdmass']\n",
    "    for i in range(len(sculpt_vars)):\n",
    "        \n",
    "        # Calculate sculpt_var distribution after cuts\n",
    "        hist, edges = np.histogram(predictions[testLabels[:,1] == 1][:,1], bins=np.linspace(0.,1.,100),density=True)\n",
    "        #hist, edges = np.histogram(outputs[y_torch[:,1].cpu().detach().numpy()==1][:,1].cpu().detach().numpy(), bins=np.linspace(0.,1.,100),density=True)\n",
    "        cdf = np.cumsum(hist)*(edges[1]-edges[0])\n",
    "\n",
    "        pctls = [0.,0.25,0.5,0.7,0.9,0.95,0.98]\n",
    "        cuts = np.searchsorted(cdf,pctls)\n",
    "\n",
    "        fig, ax = plt.subplots()\n",
    "\n",
    "        m_torch = testData[:, i]\n",
    "        qcd_idxs = testLabels[:,1].astype(bool)\n",
    "\n",
    "        qcd_inclusive, _ = np.histogram(m_torch[(qcd_idxs)], density=True)\n",
    "\n",
    "        for c,p in zip(cuts,pctls):\n",
    "            passing_idxs = predictions[:,1] > edges[c]\n",
    "            hist, bin_edges = np.histogram(\n",
    "                m_torch[(qcd_idxs&passing_idxs)], \n",
    "            )\n",
    "            N_passing = float(np.sum(hist))\n",
    "            qcd_passing = np.divide(hist,[N_passing])\n",
    "            jsd = scipy.spatial.distance.jensenshannon(qcd_passing, qcd_inclusive)\n",
    "\n",
    "            bins_centers = 0.5*(bin_edges[1:]+bin_edges[:-1])\n",
    "            ax.plot(\n",
    "                bins_centers, \n",
    "                qcd_passing,\n",
    "                label = f\"{(1-p)*100:.0f}% ({int(N_passing)}) JSD={0 if jsd is np.nan else jsd:.2f}\"\n",
    "            )\n",
    "        ax.set_xlabel(sculpt_vars[i])\n",
    "        ax.set_ylabel(\"a.u.\")\n",
    "        plt.legend(loc=\"best\")\n",
    "        ax.text(0.05,1.03,\"QCD jets\", transform=ax.transAxes)\n",
    "        ax.text(0.45,1.03,loss_text, transform=ax.transAxes)\n",
    "        plt.savefig(outdir+\"/sculptingQCD_%s.png\"%(sculpt_vars[i]))\n",
    "        plt.show()\n"
   ]
  },
  {
   "cell_type": "code",
   "execution_count": null,
   "id": "a7836610",
   "metadata": {},
   "outputs": [
    {
     "name": "stdout",
     "output_type": "stream",
     "text": [
      "[Errno 17] File exists: 'data/IN_FlatSamples_Pytorch'\n",
      "Epoch 0\n",
      "\n"
     ]
    },
    {
     "name": "stderr",
     "output_type": "stream",
     "text": [
      "100%|██████████████████████████████████████████████████████████████████████████████████████████████████████████████████████████████████████████████████████████████████████████████████████████████████████████████| 186/186 [00:02<00:00, 85.07it/s]\n"
     ]
    },
    {
     "name": "stdout",
     "output_type": "stream",
     "text": [
      "Training done in 4.2386 seconds\n"
     ]
    },
    {
     "name": "stderr",
     "output_type": "stream",
     "text": [
      "WARNING:root:Too few points to create valid contours\n",
      "WARNING:root:Too few points to create valid contours\n",
      "WARNING:root:Too few points to create valid contours\n",
      "WARNING:root:Too few points to create valid contours\n",
      "WARNING:root:Too few points to create valid contours\n"
     ]
    },
    {
     "name": "stdout",
     "output_type": "stream",
     "text": [
      "corner plot problems - could not plot\n",
      "Evaluation done in 2.7003 seconds\n",
      "\n",
      "Validation Loss:  0.9695994024691375\n",
      "Training Loss:  1.0363830783033883\n",
      "new best model\n",
      "Epoch 1\n",
      "\n"
     ]
    },
    {
     "name": "stderr",
     "output_type": "stream",
     "text": [
      "100%|██████████████████████████████████████████████████████████████████████████████████████████████████████████████████████████████████████████████████████████████████████████████████████████████████████████████| 186/186 [00:02<00:00, 86.58it/s]\n"
     ]
    },
    {
     "name": "stdout",
     "output_type": "stream",
     "text": [
      "Training done in 4.3739 seconds\n"
     ]
    },
    {
     "name": "stderr",
     "output_type": "stream",
     "text": [
      "WARNING:root:Too few points to create valid contours\n",
      "WARNING:root:Too few points to create valid contours\n",
      "WARNING:root:Too few points to create valid contours\n",
      "WARNING:root:Too few points to create valid contours\n",
      "WARNING:root:Too few points to create valid contours\n",
      "WARNING:root:Too few points to create valid contours\n",
      "WARNING:root:Too few points to create valid contours\n",
      "WARNING:root:Too few points to create valid contours\n"
     ]
    },
    {
     "name": "stdout",
     "output_type": "stream",
     "text": [
      "corner plot problems - could not plot\n",
      "Evaluation done in 2.8852 seconds\n",
      "\n",
      "Validation Loss:  0.9348412311595419\n",
      "Training Loss:  0.950321344598647\n",
      "new best model\n",
      "Epoch 2\n",
      "\n"
     ]
    },
    {
     "name": "stderr",
     "output_type": "stream",
     "text": [
      "100%|██████████████████████████████████████████████████████████████████████████████████████████████████████████████████████████████████████████████████████████████████████████████████████████████████████████████| 186/186 [00:02<00:00, 86.38it/s]\n"
     ]
    },
    {
     "name": "stdout",
     "output_type": "stream",
     "text": [
      "Training done in 4.3605 seconds\n"
     ]
    },
    {
     "name": "stderr",
     "output_type": "stream",
     "text": [
      "WARNING:root:Too few points to create valid contours\n"
     ]
    },
    {
     "name": "stdout",
     "output_type": "stream",
     "text": [
      "corner plot problems - could not plot\n",
      "Evaluation done in 2.8278 seconds\n",
      "\n",
      "Validation Loss:  0.9335979508317035\n",
      "Training Loss:  0.9341132874770831\n",
      "new best model\n",
      "Epoch 3\n",
      "\n"
     ]
    },
    {
     "name": "stderr",
     "output_type": "stream",
     "text": [
      "100%|██████████████████████████████████████████████████████████████████████████████████████████████████████████████████████████████████████████████████████████████████████████████████████████████████████████████| 186/186 [00:02<00:00, 87.44it/s]\n"
     ]
    },
    {
     "name": "stdout",
     "output_type": "stream",
     "text": [
      "Training done in 4.3433 seconds\n",
      "corner plot problems - could not plot\n",
      "Evaluation done in 2.7812 seconds\n",
      "\n",
      "Validation Loss:  0.9328310515569604\n",
      "Training Loss:  0.9333660208409832\n",
      "new best model\n",
      "Epoch 4\n",
      "\n"
     ]
    },
    {
     "name": "stderr",
     "output_type": "stream",
     "text": [
      "100%|██████████████████████████████████████████████████████████████████████████████████████████████████████████████████████████████████████████████████████████████████████████████████████████████████████████████| 186/186 [00:02<00:00, 90.24it/s]\n"
     ]
    },
    {
     "name": "stdout",
     "output_type": "stream",
     "text": [
      "Training done in 4.1383 seconds\n",
      "corner plot problems - could not plot\n",
      "Evaluation done in 3.0317 seconds\n",
      "\n",
      "Validation Loss:  0.932132785734923\n",
      "Training Loss:  0.9329286381121604\n",
      "new best model\n",
      "Epoch 5\n",
      "\n"
     ]
    },
    {
     "name": "stderr",
     "output_type": "stream",
     "text": [
      "100%|██████████████████████████████████████████████████████████████████████████████████████████████████████████████████████████████████████████████████████████████████████████████████████████████████████████████| 186/186 [00:02<00:00, 78.22it/s]\n"
     ]
    },
    {
     "name": "stdout",
     "output_type": "stream",
     "text": [
      "Training done in 4.6103 seconds\n",
      "corner plot problems - could not plot\n",
      "Evaluation done in 2.6873 seconds\n",
      "\n",
      "Validation Loss:  0.9311690434165623\n",
      "Training Loss:  0.9320206267218436\n",
      "new best model\n",
      "Epoch 6\n",
      "\n"
     ]
    },
    {
     "name": "stderr",
     "output_type": "stream",
     "text": [
      "100%|██████████████████████████████████████████████████████████████████████████████████████████████████████████████████████████████████████████████████████████████████████████████████████████████████████████████| 186/186 [00:02<00:00, 87.97it/s]\n"
     ]
    },
    {
     "name": "stdout",
     "output_type": "stream",
     "text": [
      "Training done in 4.3382 seconds\n",
      "corner plot problems - could not plot\n",
      "Evaluation done in 2.6440 seconds\n",
      "\n",
      "Validation Loss:  0.9294583693794582\n",
      "Training Loss:  0.9307518101507618\n",
      "new best model\n",
      "Epoch 7\n",
      "\n"
     ]
    },
    {
     "name": "stderr",
     "output_type": "stream",
     "text": [
      "100%|██████████████████████████████████████████████████████████████████████████████████████████████████████████████████████████████████████████████████████████████████████████████████████████████████████████████| 186/186 [00:01<00:00, 93.50it/s]\n"
     ]
    },
    {
     "name": "stdout",
     "output_type": "stream",
     "text": [
      "Training done in 4.2025 seconds\n"
     ]
    },
    {
     "name": "stderr",
     "output_type": "stream",
     "text": [
      "WARNING:root:Too few points to create valid contours\n",
      "WARNING:root:Too few points to create valid contours\n",
      "WARNING:root:Too few points to create valid contours\n",
      "WARNING:root:Too few points to create valid contours\n"
     ]
    },
    {
     "name": "stdout",
     "output_type": "stream",
     "text": [
      "corner plot problems - could not plot\n",
      "Evaluation done in 3.0190 seconds\n",
      "\n",
      "Validation Loss:  0.9211847833965136\n",
      "Training Loss:  0.9255059012161788\n",
      "new best model\n",
      "Epoch 8\n",
      "\n"
     ]
    },
    {
     "name": "stderr",
     "output_type": "stream",
     "text": [
      "100%|██████████████████████████████████████████████████████████████████████████████████████████████████████████████████████████████████████████████████████████████████████████████████████████████████████████████| 186/186 [00:02<00:00, 86.88it/s]\n"
     ]
    },
    {
     "name": "stdout",
     "output_type": "stream",
     "text": [
      "Training done in 4.3435 seconds\n"
     ]
    },
    {
     "name": "stderr",
     "output_type": "stream",
     "text": [
      "WARNING:root:Too few points to create valid contours\n",
      "WARNING:root:Too few points to create valid contours\n"
     ]
    },
    {
     "name": "stdout",
     "output_type": "stream",
     "text": [
      "corner plot problems - could not plot\n",
      "Evaluation done in 2.6563 seconds\n",
      "\n",
      "Validation Loss:  0.9109120887258778\n",
      "Training Loss:  0.9164219245474826\n",
      "new best model\n",
      "Epoch 9\n",
      "\n"
     ]
    },
    {
     "name": "stderr",
     "output_type": "stream",
     "text": [
      "100%|██████████████████████████████████████████████████████████████████████████████████████████████████████████████████████████████████████████████████████████████████████████████████████████████████████████████| 186/186 [00:02<00:00, 86.95it/s]\n"
     ]
    },
    {
     "name": "stdout",
     "output_type": "stream",
     "text": [
      "Training done in 4.3444 seconds\n"
     ]
    },
    {
     "name": "stderr",
     "output_type": "stream",
     "text": [
      "WARNING:root:Too few points to create valid contours\n"
     ]
    },
    {
     "name": "stdout",
     "output_type": "stream",
     "text": [
      "corner plot problems - could not plot\n",
      "Evaluation done in 2.6536 seconds\n",
      "\n",
      "Validation Loss:  0.9114834666252136\n",
      "Training Loss:  0.9084025586164126\n",
      "Epoch 10\n",
      "\n"
     ]
    },
    {
     "name": "stderr",
     "output_type": "stream",
     "text": [
      "100%|██████████████████████████████████████████████████████████████████████████████████████████████████████████████████████████████████████████████████████████████████████████████████████████████████████████████| 186/186 [00:02<00:00, 88.14it/s]\n"
     ]
    },
    {
     "name": "stdout",
     "output_type": "stream",
     "text": [
      "Training done in 4.2181 seconds\n"
     ]
    },
    {
     "name": "stderr",
     "output_type": "stream",
     "text": [
      "WARNING:root:Too few points to create valid contours\n",
      "WARNING:root:Too few points to create valid contours\n"
     ]
    },
    {
     "name": "stdout",
     "output_type": "stream",
     "text": [
      "corner plot problems - could not plot\n",
      "Evaluation done in 3.2056 seconds\n",
      "\n",
      "Validation Loss:  0.9068684552026831\n",
      "Training Loss:  0.9078143530635423\n",
      "new best model\n",
      "Epoch 11\n",
      "\n"
     ]
    },
    {
     "name": "stderr",
     "output_type": "stream",
     "text": [
      "100%|██████████████████████████████████████████████████████████████████████████████████████████████████████████████████████████████████████████████████████████████████████████████████████████████████████████████| 186/186 [00:02<00:00, 80.57it/s]\n"
     ]
    },
    {
     "name": "stdout",
     "output_type": "stream",
     "text": [
      "Training done in 4.5146 seconds\n",
      "corner plot problems - could not plot\n",
      "Evaluation done in 2.7690 seconds\n",
      "\n",
      "Validation Loss:  0.9066029968469039\n",
      "Training Loss:  0.907129757186418\n",
      "new best model\n",
      "Epoch 12\n",
      "\n"
     ]
    },
    {
     "name": "stderr",
     "output_type": "stream",
     "text": [
      "100%|██████████████████████████████████████████████████████████████████████████████████████████████████████████████████████████████████████████████████████████████████████████████████████████████████████████████| 186/186 [00:02<00:00, 86.76it/s]\n"
     ]
    },
    {
     "name": "stdout",
     "output_type": "stream",
     "text": [
      "Training done in 4.3329 seconds\n",
      "corner plot problems - could not plot\n",
      "Evaluation done in 2.7334 seconds\n",
      "\n",
      "Validation Loss:  0.9059185929920363\n",
      "Training Loss:  0.9064377716151617\n",
      "new best model\n",
      "Epoch 13\n",
      "\n"
     ]
    },
    {
     "name": "stderr",
     "output_type": "stream",
     "text": [
      "100%|██████████████████████████████████████████████████████████████████████████████████████████████████████████████████████████████████████████████████████████████████████████████████████████████████████████████| 186/186 [00:02<00:00, 86.07it/s]\n"
     ]
    },
    {
     "name": "stdout",
     "output_type": "stream",
     "text": [
      "Training done in 4.3642 seconds\n",
      "corner plot problems - could not plot\n",
      "Evaluation done in 2.7459 seconds\n",
      "\n",
      "Validation Loss:  0.9050483703613281\n",
      "Training Loss:  0.9057456687573464\n",
      "new best model\n",
      "Epoch 14\n",
      "\n"
     ]
    },
    {
     "name": "stderr",
     "output_type": "stream",
     "text": [
      "100%|██████████████████████████████████████████████████████████████████████████████████████████████████████████████████████████████████████████████████████████████████████████████████████████████████████████████| 186/186 [00:02<00:00, 87.44it/s]\n"
     ]
    },
    {
     "name": "stdout",
     "output_type": "stream",
     "text": [
      "Training done in 4.3299 seconds\n",
      "corner plot problems - could not plot\n",
      "Evaluation done in 3.3096 seconds\n",
      "\n",
      "Validation Loss:  0.9033350996349169\n",
      "Training Loss:  0.9043827374135295\n",
      "new best model\n",
      "Epoch 15\n",
      "\n"
     ]
    },
    {
     "name": "stderr",
     "output_type": "stream",
     "text": [
      "100%|██████████████████████████████████████████████████████████████████████████████████████████████████████████████████████████████████████████████████████████████████████████████████████████████████████████████| 186/186 [00:02<00:00, 81.91it/s]\n"
     ]
    },
    {
     "name": "stdout",
     "output_type": "stream",
     "text": [
      "Training done in 4.4710 seconds\n",
      "corner plot problems - could not plot\n",
      "Evaluation done in 2.6429 seconds\n",
      "\n",
      "Validation Loss:  0.9022276116454083\n",
      "Training Loss:  0.9031298218234893\n",
      "new best model\n",
      "Epoch 16\n",
      "\n"
     ]
    },
    {
     "name": "stderr",
     "output_type": "stream",
     "text": [
      "100%|██████████████████████████████████████████████████████████████████████████████████████████████████████████████████████████████████████████████████████████████████████████████████████████████████████████████| 186/186 [00:02<00:00, 87.15it/s]\n"
     ]
    },
    {
     "name": "stdout",
     "output_type": "stream",
     "text": [
      "Training done in 4.3139 seconds\n",
      "corner plot problems - could not plot\n",
      "Evaluation done in 2.6748 seconds\n",
      "\n",
      "Validation Loss:  0.9011872073878413\n",
      "Training Loss:  0.9016527277167126\n",
      "new best model\n",
      "Epoch 17\n",
      "\n"
     ]
    },
    {
     "name": "stderr",
     "output_type": "stream",
     "text": [
      "100%|██████████████████████████████████████████████████████████████████████████████████████████████████████████████████████████████████████████████████████████████████████████████████████████████████████████████| 186/186 [00:02<00:00, 85.31it/s]\n"
     ]
    },
    {
     "name": "stdout",
     "output_type": "stream",
     "text": [
      "Training done in 4.2840 seconds\n",
      "corner plot problems - could not plot\n",
      "Evaluation done in 2.7194 seconds\n",
      "\n",
      "Validation Loss:  0.9003210974776227\n",
      "Training Loss:  0.9010586902018516\n",
      "new best model\n",
      "Epoch 18\n",
      "\n"
     ]
    },
    {
     "name": "stderr",
     "output_type": "stream",
     "text": [
      "100%|██████████████████████████████████████████████████████████████████████████████████████████████████████████████████████████████████████████████████████████████████████████████████████████████████████████████| 186/186 [00:02<00:00, 87.38it/s]\n"
     ]
    },
    {
     "name": "stdout",
     "output_type": "stream",
     "text": [
      "Training done in 4.3338 seconds\n",
      "corner plot problems - could not plot\n",
      "Evaluation done in 2.6718 seconds\n",
      "\n",
      "Validation Loss:  0.9003286361694336\n",
      "Training Loss:  0.9007662509077339\n",
      "Epoch 19\n",
      "\n"
     ]
    },
    {
     "name": "stderr",
     "output_type": "stream",
     "text": [
      "100%|██████████████████████████████████████████████████████████████████████████████████████████████████████████████████████████████████████████████████████████████████████████████████████████████████████████████| 186/186 [00:02<00:00, 87.38it/s]\n"
     ]
    },
    {
     "name": "stdout",
     "output_type": "stream",
     "text": [
      "Training done in 4.4335 seconds\n",
      "corner plot problems - could not plot\n",
      "Evaluation done in 3.9784 seconds\n",
      "\n",
      "Validation Loss:  0.8998319247494573\n",
      "Training Loss:  0.9003284272327218\n",
      "new best model\n",
      "Epoch 20\n",
      "\n"
     ]
    },
    {
     "name": "stderr",
     "output_type": "stream",
     "text": [
      "100%|██████████████████████████████████████████████████████████████████████████████████████████████████████████████████████████████████████████████████████████████████████████████████████████████████████████████| 186/186 [00:02<00:00, 89.49it/s]\n",
      "/uscms_data/d3/eamoreno/mambaforge/envs/IN_torch/lib/python3.9/site-packages/corner/core.py:95: RuntimeWarning: More than 20 figures have been opened. Figures created through the pyplot interface (`matplotlib.pyplot.figure`) are retained until explicitly closed and may consume too much memory. (To control this warning, see the rcParam `figure.max_open_warning`).\n",
      "  fig, axes = pl.subplots(K, K, figsize=(dim, dim))\n"
     ]
    },
    {
     "name": "stdout",
     "output_type": "stream",
     "text": [
      "Training done in 4.4209 seconds\n",
      "corner plot problems - could not plot\n",
      "Evaluation done in 3.2175 seconds\n",
      "\n",
      "Validation Loss:  0.9000274953634843\n",
      "Training Loss:  0.9001376744239561\n",
      "Epoch 21\n",
      "\n"
     ]
    },
    {
     "name": "stderr",
     "output_type": "stream",
     "text": [
      "100%|██████████████████████████████████████████████████████████████████████████████████████████████████████████████████████████████████████████████████████████████████████████████████████████████████████████████| 186/186 [00:02<00:00, 87.25it/s]\n"
     ]
    },
    {
     "name": "stdout",
     "output_type": "stream",
     "text": [
      "Training done in 4.5090 seconds\n",
      "corner plot problems - could not plot\n",
      "Evaluation done in 3.2833 seconds\n",
      "\n",
      "Validation Loss:  0.8991782069206238\n",
      "Training Loss:  0.8996561832966343\n",
      "new best model\n",
      "Epoch 22\n",
      "\n"
     ]
    },
    {
     "name": "stderr",
     "output_type": "stream",
     "text": [
      "100%|██████████████████████████████████████████████████████████████████████████████████████████████████████████████████████████████████████████████████████████████████████████████████████████████████████████████| 186/186 [00:02<00:00, 85.45it/s]\n"
     ]
    },
    {
     "name": "stdout",
     "output_type": "stream",
     "text": [
      "Training done in 4.4783 seconds\n",
      "corner plot problems - could not plot\n",
      "Evaluation done in 3.0385 seconds\n",
      "\n",
      "Validation Loss:  0.8991505581399669\n",
      "Training Loss:  0.8997341650788502\n",
      "new best model\n",
      "Epoch 23\n",
      "\n"
     ]
    },
    {
     "name": "stderr",
     "output_type": "stream",
     "text": [
      "100%|██████████████████████████████████████████████████████████████████████████████████████████████████████████████████████████████████████████████████████████████████████████████████████████████████████████████| 186/186 [00:02<00:00, 87.28it/s]\n"
     ]
    },
    {
     "name": "stdout",
     "output_type": "stream",
     "text": [
      "Training done in 4.3323 seconds\n",
      "corner plot problems - could not plot\n",
      "Evaluation done in 2.6649 seconds\n",
      "\n",
      "Validation Loss:  0.8987985616144927\n",
      "Training Loss:  0.8993697374738673\n",
      "new best model\n",
      "Epoch 24\n",
      "\n"
     ]
    },
    {
     "name": "stderr",
     "output_type": "stream",
     "text": [
      "100%|██████████████████████████████████████████████████████████████████████████████████████████████████████████████████████████████████████████████████████████████████████████████████████████████████████████████| 186/186 [00:02<00:00, 82.01it/s]\n"
     ]
    },
    {
     "name": "stdout",
     "output_type": "stream",
     "text": [
      "Training done in 4.4137 seconds\n"
     ]
    },
    {
     "name": "stderr",
     "output_type": "stream",
     "text": [
      "WARNING:root:Too few points to create valid contours\n"
     ]
    },
    {
     "name": "stdout",
     "output_type": "stream",
     "text": [
      "corner plot problems - could not plot\n",
      "Evaluation done in 2.7396 seconds\n",
      "\n",
      "Validation Loss:  0.8986602347830067\n",
      "Training Loss:  0.898749505640358\n",
      "new best model\n",
      "Epoch 25\n",
      "\n"
     ]
    },
    {
     "name": "stderr",
     "output_type": "stream",
     "text": [
      "100%|██████████████████████████████████████████████████████████████████████████████████████████████████████████████████████████████████████████████████████████████████████████████████████████████████████████████| 186/186 [00:02<00:00, 83.48it/s]\n"
     ]
    },
    {
     "name": "stdout",
     "output_type": "stream",
     "text": [
      "Training done in 4.2730 seconds\n"
     ]
    },
    {
     "name": "stderr",
     "output_type": "stream",
     "text": [
      "WARNING:root:Too few points to create valid contours\n"
     ]
    },
    {
     "name": "stdout",
     "output_type": "stream",
     "text": [
      "corner plot problems - could not plot\n",
      "Evaluation done in 2.8300 seconds\n",
      "\n",
      "Validation Loss:  0.897685082062431\n",
      "Training Loss:  0.8982713023821512\n",
      "new best model\n",
      "Epoch 26\n",
      "\n"
     ]
    },
    {
     "name": "stderr",
     "output_type": "stream",
     "text": [
      " 33%|█████████████████████████████████████████████████████████████████████                                                                                                                                          | 62/186 [00:00<00:01, 86.34it/s]"
     ]
    }
   ],
   "source": [
    "batchSize = 6000\n",
    "n_Dim = 4\n",
    "n_epochs = 100\n",
    "CorrDim = 0\n",
    "label='contrastiveVICReg'\n",
    "modelName = \"IN_FlatSamples_NoFill_50particles_dRlimit08_\" + label\n",
    "\n",
    "weightrepr = 1\n",
    "weightcov = 100 #(most useful)\n",
    "weightstd = 1\n",
    "weightCorr1 = 0 #(most useful in barlow)\n",
    "weightCorr2 = 0 #(not really useful but could explore)\n",
    "loss_text = 'lambda_cov=%s, lambdacorr1=%s, lambdacorr2=%s'%(weightcov, weightCorr1, weightCorr2)\n",
    "\n",
    "#encoder = GraphNetnoSV(particlesPostCut, n_Dim, entriesPerParticle, 15,\n",
    "#                      De=10,\n",
    "#                      Do=8, softmax=False)\n",
    "\n",
    "encoder = DNN(n_Dim)\n",
    "classifier = MLP(n_Dim-CorrDim, 2)\n",
    "\n",
    "encoder = train_encoder(encoder, batchSize, n_Dim, CorrDim, n_epochs, modelName, outdir, \n",
    "            particleTrainingData, particleValidationData, trainingLabels, jetMassTrainingData, jetMassValidationData,\n",
    "            weightrepr, weightcov, weightstd, weightCorr1, weightCorr2)\n",
    "\n",
    "classifier = train_classifier(classifier, encoder, batchSize, n_Dim, CorrDim, n_epochs, modelName, outdir, \n",
    "            particleTrainingData, particleValidationData, trainingLabels, jetMassTrainingData, jetMassValidationData)\n",
    "\n",
    "eval_classifier(classifier, encoder, loss_text)\n",
    "\n",
    "\n"
   ]
  }
 ],
 "metadata": {
  "kernelspec": {
   "display_name": "IN_torch",
   "language": "python",
   "name": "in_torch"
  },
  "language_info": {
   "codemirror_mode": {
    "name": "ipython",
    "version": 3
   },
   "file_extension": ".py",
   "mimetype": "text/x-python",
   "name": "python",
   "nbconvert_exporter": "python",
   "pygments_lexer": "ipython3",
   "version": "3.9.13"
  }
 },
 "nbformat": 4,
 "nbformat_minor": 5
}
